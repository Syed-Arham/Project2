{
 "cells": [
  {
   "cell_type": "code",
   "execution_count": 6,
   "id": "62d11da7-d8cf-4126-9390-a4f9de19ff84",
   "metadata": {
    "tags": []
   },
   "outputs": [],
   "source": [
    "# Approach Adopted: Linear Regression (Simple Linear Regression)\n",
    "# Task: Stock Prediction on the TATA dataset.\n",
    "\n",
    "# Necessary Imports\n",
    "\n",
    "import math\n",
    "import pandas as pd\n",
    "import datetime as dt\n",
    "from sklearn import metrics\n",
    "import numpy as np\n",
    "from sklearn.model_selection import train_test_split      # For splitting corpus into testing set and training set\n",
    "from sklearn.linear_model import LinearRegression         # Linear Regression model\n",
    "import matplotlib.pyplot as plt\n",
    "%matplotlib inline                                       "
   ]
  },
  {
   "cell_type": "code",
   "execution_count": 7,
   "id": "d6f93144-3498-47ff-9363-1a96ff895f23",
   "metadata": {},
   "outputs": [
    {
     "data": {
      "text/html": [
       "<div>\n",
       "<style scoped>\n",
       "    .dataframe tbody tr th:only-of-type {\n",
       "        vertical-align: middle;\n",
       "    }\n",
       "\n",
       "    .dataframe tbody tr th {\n",
       "        vertical-align: top;\n",
       "    }\n",
       "\n",
       "    .dataframe thead th {\n",
       "        text-align: right;\n",
       "    }\n",
       "</style>\n",
       "<table border=\"1\" class=\"dataframe\">\n",
       "  <thead>\n",
       "    <tr style=\"text-align: right;\">\n",
       "      <th></th>\n",
       "      <th>Date</th>\n",
       "      <th>Open</th>\n",
       "      <th>High</th>\n",
       "      <th>Low</th>\n",
       "      <th>Last</th>\n",
       "      <th>Close</th>\n",
       "      <th>Total Trade Quantity</th>\n",
       "      <th>Turnover (Lacs)</th>\n",
       "    </tr>\n",
       "    <tr>\n",
       "      <th>Date</th>\n",
       "      <th></th>\n",
       "      <th></th>\n",
       "      <th></th>\n",
       "      <th></th>\n",
       "      <th></th>\n",
       "      <th></th>\n",
       "      <th></th>\n",
       "      <th></th>\n",
       "    </tr>\n",
       "  </thead>\n",
       "  <tbody>\n",
       "    <tr>\n",
       "      <th>2018-09-28</th>\n",
       "      <td>736965</td>\n",
       "      <td>234.05</td>\n",
       "      <td>235.95</td>\n",
       "      <td>230.20</td>\n",
       "      <td>233.50</td>\n",
       "      <td>233.75</td>\n",
       "      <td>3069914</td>\n",
       "      <td>7162.35</td>\n",
       "    </tr>\n",
       "    <tr>\n",
       "      <th>2018-09-27</th>\n",
       "      <td>736964</td>\n",
       "      <td>234.55</td>\n",
       "      <td>236.80</td>\n",
       "      <td>231.10</td>\n",
       "      <td>233.80</td>\n",
       "      <td>233.25</td>\n",
       "      <td>5082859</td>\n",
       "      <td>11859.95</td>\n",
       "    </tr>\n",
       "    <tr>\n",
       "      <th>2018-09-26</th>\n",
       "      <td>736963</td>\n",
       "      <td>240.00</td>\n",
       "      <td>240.00</td>\n",
       "      <td>232.50</td>\n",
       "      <td>235.00</td>\n",
       "      <td>234.25</td>\n",
       "      <td>2240909</td>\n",
       "      <td>5248.60</td>\n",
       "    </tr>\n",
       "    <tr>\n",
       "      <th>2018-09-25</th>\n",
       "      <td>736962</td>\n",
       "      <td>233.30</td>\n",
       "      <td>236.75</td>\n",
       "      <td>232.00</td>\n",
       "      <td>236.25</td>\n",
       "      <td>236.10</td>\n",
       "      <td>2349368</td>\n",
       "      <td>5503.90</td>\n",
       "    </tr>\n",
       "    <tr>\n",
       "      <th>2018-09-24</th>\n",
       "      <td>736961</td>\n",
       "      <td>233.55</td>\n",
       "      <td>239.20</td>\n",
       "      <td>230.75</td>\n",
       "      <td>234.00</td>\n",
       "      <td>233.30</td>\n",
       "      <td>3423509</td>\n",
       "      <td>7999.55</td>\n",
       "    </tr>\n",
       "  </tbody>\n",
       "</table>\n",
       "</div>"
      ],
      "text/plain": [
       "              Date    Open    High     Low    Last   Close  \\\n",
       "Date                                                         \n",
       "2018-09-28  736965  234.05  235.95  230.20  233.50  233.75   \n",
       "2018-09-27  736964  234.55  236.80  231.10  233.80  233.25   \n",
       "2018-09-26  736963  240.00  240.00  232.50  235.00  234.25   \n",
       "2018-09-25  736962  233.30  236.75  232.00  236.25  236.10   \n",
       "2018-09-24  736961  233.55  239.20  230.75  234.00  233.30   \n",
       "\n",
       "            Total Trade Quantity  Turnover (Lacs)  \n",
       "Date                                               \n",
       "2018-09-28               3069914          7162.35  \n",
       "2018-09-27               5082859         11859.95  \n",
       "2018-09-26               2240909          5248.60  \n",
       "2018-09-25               2349368          5503.90  \n",
       "2018-09-24               3423509          7999.55  "
      ]
     },
     "execution_count": 7,
     "metadata": {},
     "output_type": "execute_result"
    }
   ],
   "source": [
    "# Process Data, Training Set and Test Set\n",
    "\n",
    "corpus = pd.read_csv('NSE-TATAGLOBAL.csv')\n",
    "corpus['Date'] = pd.to_datetime(corpus.Date, format = '%Y-%m-%d')\n",
    "corpus.index = corpus['Date']\n",
    "\n",
    "corpus['Date'] = corpus['Date'].map(dt.datetime.toordinal)\n",
    "x = corpus[['Date']].values                               # Values being given to the model.\n",
    "y = corpus[['Close']].values                                                            # Desired outputs\n",
    "trainX, testX, trainY, testY = train_test_split(x,y,test_size=0.2, random_state = 0)    # 20% of corpus given to test set.\n",
    "corpus.head()"
   ]
  },
  {
   "cell_type": "code",
   "execution_count": 8,
   "id": "0ab9bbc3-d1d0-4de2-88d1-72591a6c7c0b",
   "metadata": {},
   "outputs": [],
   "source": [
    "# Apply Linear Regression\n",
    "\n",
    "RegressionModel = LinearRegression()\n",
    "RegressionModel.fit(trainX, trainY)\n",
    "predictions = RegressionModel.predict(testX)"
   ]
  },
  {
   "cell_type": "code",
   "execution_count": 9,
   "id": "7c9a58fb-a4c6-4b4e-8e35-c6730ad24c11",
   "metadata": {},
   "outputs": [
    {
     "data": {
      "text/html": [
       "<div>\n",
       "<style scoped>\n",
       "    .dataframe tbody tr th:only-of-type {\n",
       "        vertical-align: middle;\n",
       "    }\n",
       "\n",
       "    .dataframe tbody tr th {\n",
       "        vertical-align: top;\n",
       "    }\n",
       "\n",
       "    .dataframe thead th {\n",
       "        text-align: right;\n",
       "    }\n",
       "</style>\n",
       "<table border=\"1\" class=\"dataframe\">\n",
       "  <thead>\n",
       "    <tr style=\"text-align: right;\">\n",
       "      <th></th>\n",
       "      <th>Desired</th>\n",
       "      <th>Predicted</th>\n",
       "    </tr>\n",
       "  </thead>\n",
       "  <tbody>\n",
       "    <tr>\n",
       "      <th>0</th>\n",
       "      <td>134.95</td>\n",
       "      <td>166.918174</td>\n",
       "    </tr>\n",
       "    <tr>\n",
       "      <th>1</th>\n",
       "      <td>145.35</td>\n",
       "      <td>138.427564</td>\n",
       "    </tr>\n",
       "    <tr>\n",
       "      <th>2</th>\n",
       "      <td>157.10</td>\n",
       "      <td>140.324358</td>\n",
       "    </tr>\n",
       "    <tr>\n",
       "      <th>3</th>\n",
       "      <td>152.15</td>\n",
       "      <td>135.795280</td>\n",
       "    </tr>\n",
       "    <tr>\n",
       "      <th>4</th>\n",
       "      <td>112.05</td>\n",
       "      <td>118.066069</td>\n",
       "    </tr>\n",
       "  </tbody>\n",
       "</table>\n",
       "</div>"
      ],
      "text/plain": [
       "   Desired   Predicted\n",
       "0   134.95  166.918174\n",
       "1   145.35  138.427564\n",
       "2   157.10  140.324358\n",
       "3   152.15  135.795280\n",
       "4   112.05  118.066069"
      ]
     },
     "execution_count": 9,
     "metadata": {},
     "output_type": "execute_result"
    }
   ],
   "source": [
    "result = pd.DataFrame({'Desired':testY.flatten(), 'Predicted': predictions.flatten()})\n",
    "result.head()"
   ]
  },
  {
   "cell_type": "code",
   "execution_count": 10,
   "id": "ad1a4ac3-f485-4272-a29c-27d404d49671",
   "metadata": {
    "tags": []
   },
   "outputs": [
    {
     "name": "stdout",
     "output_type": "stream",
     "text": [
      "Root Mean Squared Error is:  34.42194737691777\n"
     ]
    }
   ],
   "source": [
    "print('Root Mean Squared Error is: ',np.sqrt(np.mean(np.power((np.array(testY)-np.array(predictions)),2))))"
   ]
  }
 ],
 "metadata": {
  "kernelspec": {
   "display_name": "Python 3",
   "language": "python",
   "name": "python3"
  },
  "language_info": {
   "codemirror_mode": {
    "name": "ipython",
    "version": 3
   },
   "file_extension": ".py",
   "mimetype": "text/x-python",
   "name": "python",
   "nbconvert_exporter": "python",
   "pygments_lexer": "ipython3",
   "version": "3.8.8"
  }
 },
 "nbformat": 4,
 "nbformat_minor": 5
}
