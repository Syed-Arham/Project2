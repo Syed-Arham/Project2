{
 "cells": [
  {
   "cell_type": "code",
   "execution_count": 62,
   "id": "f2a32818-2d9b-492c-abe5-27426dabd2ae",
   "metadata": {},
   "outputs": [],
   "source": [
    "# Approach Adopted: LSTM (Recurrent Neural Network)\n",
    "# Task: Stock Prediction on the TATA dataset.\n",
    "\n",
    "# Necessary imports \n",
    "\n",
    "from keras.models import Sequential\n",
    "from keras.layers import Dense\n",
    "import numpy as np\n",
    "import pandas as pd\n",
    "import matplotlib.pyplot as plt\n",
    "from keras.layers import Dropout\n",
    "from keras.layers import LSTM\n",
    "from sklearn.preprocessing import MinMaxScaler\n",
    "from sklearn.model_selection import train_test_split\n",
    "import math"
   ]
  },
  {
   "cell_type": "code",
   "execution_count": 63,
   "id": "bc9f1ef6-d95b-4d8e-a47e-2d47ec154b15",
   "metadata": {},
   "outputs": [
    {
     "data": {
      "text/html": [
       "<div>\n",
       "<style scoped>\n",
       "    .dataframe tbody tr th:only-of-type {\n",
       "        vertical-align: middle;\n",
       "    }\n",
       "\n",
       "    .dataframe tbody tr th {\n",
       "        vertical-align: top;\n",
       "    }\n",
       "\n",
       "    .dataframe thead th {\n",
       "        text-align: right;\n",
       "    }\n",
       "</style>\n",
       "<table border=\"1\" class=\"dataframe\">\n",
       "  <thead>\n",
       "    <tr style=\"text-align: right;\">\n",
       "      <th></th>\n",
       "      <th>Date</th>\n",
       "      <th>Open</th>\n",
       "      <th>High</th>\n",
       "      <th>Low</th>\n",
       "      <th>Last</th>\n",
       "      <th>Close</th>\n",
       "      <th>Total Trade Quantity</th>\n",
       "      <th>Turnover (Lacs)</th>\n",
       "    </tr>\n",
       "  </thead>\n",
       "  <tbody>\n",
       "    <tr>\n",
       "      <th>0</th>\n",
       "      <td>2018-09-28</td>\n",
       "      <td>234.05</td>\n",
       "      <td>235.95</td>\n",
       "      <td>230.20</td>\n",
       "      <td>233.50</td>\n",
       "      <td>233.75</td>\n",
       "      <td>3069914</td>\n",
       "      <td>7162.35</td>\n",
       "    </tr>\n",
       "    <tr>\n",
       "      <th>1</th>\n",
       "      <td>2018-09-27</td>\n",
       "      <td>234.55</td>\n",
       "      <td>236.80</td>\n",
       "      <td>231.10</td>\n",
       "      <td>233.80</td>\n",
       "      <td>233.25</td>\n",
       "      <td>5082859</td>\n",
       "      <td>11859.95</td>\n",
       "    </tr>\n",
       "    <tr>\n",
       "      <th>2</th>\n",
       "      <td>2018-09-26</td>\n",
       "      <td>240.00</td>\n",
       "      <td>240.00</td>\n",
       "      <td>232.50</td>\n",
       "      <td>235.00</td>\n",
       "      <td>234.25</td>\n",
       "      <td>2240909</td>\n",
       "      <td>5248.60</td>\n",
       "    </tr>\n",
       "    <tr>\n",
       "      <th>3</th>\n",
       "      <td>2018-09-25</td>\n",
       "      <td>233.30</td>\n",
       "      <td>236.75</td>\n",
       "      <td>232.00</td>\n",
       "      <td>236.25</td>\n",
       "      <td>236.10</td>\n",
       "      <td>2349368</td>\n",
       "      <td>5503.90</td>\n",
       "    </tr>\n",
       "    <tr>\n",
       "      <th>4</th>\n",
       "      <td>2018-09-24</td>\n",
       "      <td>233.55</td>\n",
       "      <td>239.20</td>\n",
       "      <td>230.75</td>\n",
       "      <td>234.00</td>\n",
       "      <td>233.30</td>\n",
       "      <td>3423509</td>\n",
       "      <td>7999.55</td>\n",
       "    </tr>\n",
       "  </tbody>\n",
       "</table>\n",
       "</div>"
      ],
      "text/plain": [
       "         Date    Open    High     Low    Last   Close  Total Trade Quantity  \\\n",
       "0  2018-09-28  234.05  235.95  230.20  233.50  233.75               3069914   \n",
       "1  2018-09-27  234.55  236.80  231.10  233.80  233.25               5082859   \n",
       "2  2018-09-26  240.00  240.00  232.50  235.00  234.25               2240909   \n",
       "3  2018-09-25  233.30  236.75  232.00  236.25  236.10               2349368   \n",
       "4  2018-09-24  233.55  239.20  230.75  234.00  233.30               3423509   \n",
       "\n",
       "   Turnover (Lacs)  \n",
       "0          7162.35  \n",
       "1         11859.95  \n",
       "2          5248.60  \n",
       "3          5503.90  \n",
       "4          7999.55  "
      ]
     },
     "execution_count": 63,
     "metadata": {},
     "output_type": "execute_result"
    }
   ],
   "source": [
    "# Reading the corpus\n",
    "\n",
    "df = pd.read_csv('NSE-TATAGLOBAL.csv')\n",
    "df.head()"
   ]
  },
  {
   "cell_type": "code",
   "execution_count": 64,
   "id": "162fa06e-e641-4410-8f4b-1ffeec1daa6a",
   "metadata": {
    "jupyter": {
     "source_hidden": true
    },
    "tags": []
   },
   "outputs": [],
   "source": [
    "# We will create a new df using Close column since that is what we want to predict\n",
    "\n",
    "d = df.filter(['Close'])\n",
    "dataset = d.values\n",
    "size = len(dataset)\n",
    "\n",
    "trainingSize = math.ceil(size * 0.6)\n",
    "\n",
    "# Normalize data and make values between 0 and 1. \n",
    "\n",
    "Scaler = MinMaxScaler(feature_range = (0,1))\n",
    "scaled_data = Scaler.fit_transform(dataset)\n",
    "\n",
    "# Make the training data. X --> Independent Y --> Dependent\n",
    "\n",
    "trainX = []\n",
    "trainY = []\n",
    "train = scaled_data[0:trainingSize, :] # 0 - 80 percent of the dataset\n",
    "for i in range(60, len(train)):        # 60 timesteps\n",
    "    trainX.append(train[i-60:i,0])\n",
    "    trainY.append(train[i,0])\n",
    "\n",
    "# Convert to Numpy Array\n",
    "\n",
    "train_x = np.array(trainX)\n",
    "train_y = np.array(trainY)\n",
    "\n",
    "# Data is in 2 dimensional form. We need to convert it to 3 dimensional form so that it can be used by the KERAs LSTM\n",
    "\n",
    "train_x = np.reshape(train_x, (train_x.shape[0], train_x.shape[1], 1))   # no. of rows, timestep count, and number of features."
   ]
  },
  {
   "cell_type": "code",
   "execution_count": 65,
   "id": "b5714f63-8b67-4035-9265-ddeb86c4b760",
   "metadata": {},
   "outputs": [],
   "source": [
    "# Make the testing data. X --> Independent Y --> Dependent\n",
    "\n",
    "testX = []\n",
    "test = scaled_data[trainingSize - 60 :,:] # 0 - 80 percent of the dataset\n",
    "testY = dataset[trainingSize:,:]\n",
    "for i in range(60, len(test)):        # 60 timesteps\n",
    "    testX.append(test[i-60:i,0])\n",
    "\n",
    "testX = np.array(testX)\n",
    "testX = np.reshape(testX, (testX.shape[0], testX.shape[1], 1))"
   ]
  },
  {
   "cell_type": "code",
   "execution_count": 66,
   "id": "adf008e9-7546-44cd-953f-04c1f395461e",
   "metadata": {
    "tags": []
   },
   "outputs": [
    {
     "name": "stdout",
     "output_type": "stream",
     "text": [
      "1161/1161 [==============================] - 25s 19ms/step - loss: 0.0031\n"
     ]
    },
    {
     "data": {
      "text/plain": [
       "<keras.callbacks.History at 0x1fba5cbb400>"
      ]
     },
     "execution_count": 66,
     "metadata": {},
     "output_type": "execute_result"
    }
   ],
   "source": [
    "# Create and train the LSTM\n",
    "\n",
    "regressor = Sequential()\n",
    "regressor.add(LSTM(units = 50, return_sequences = True, input_shape = (train_x.shape[1], 1))) # Input number of steps and features. 50 neurons\n",
    "regressor.add(LSTM(units = 50, return_sequences = False))                                     # Return sequence = false since no more lstm layer\n",
    "regressor.add(Dense(25))\n",
    "regressor.add(Dense(1))                                                                       # Output layer\n",
    "regressor.compile(optimizer = 'adam', loss = 'mean_squared_error')\n",
    "\n",
    "# Fitting the RNN to the Training set\n",
    "regressor.fit(train_x, train_y, epochs = 1, batch_size = 1)"
   ]
  },
  {
   "cell_type": "code",
   "execution_count": 67,
   "id": "d85e1bf9-e135-4f1e-939f-cea6d6eb4132",
   "metadata": {},
   "outputs": [],
   "source": [
    "# Generate predictions\n",
    "\n",
    "p = regressor.predict(testX)\n",
    "p = Scaler.inverse_transform(p)"
   ]
  },
  {
   "cell_type": "code",
   "execution_count": 68,
   "id": "44d5897b-9171-4485-b667-d0e50213cb92",
   "metadata": {},
   "outputs": [
    {
     "data": {
      "text/plain": [
       "6.5503176171305135"
      ]
     },
     "execution_count": 68,
     "metadata": {},
     "output_type": "execute_result"
    }
   ],
   "source": [
    "# Find Root Mean Squared Error\n",
    "\n",
    "np.sqrt(np.mean(p-testY)**2)       # Predicted - actual"
   ]
  }
 ],
 "metadata": {
  "kernelspec": {
   "display_name": "Python 3",
   "language": "python",
   "name": "python3"
  },
  "language_info": {
   "codemirror_mode": {
    "name": "ipython",
    "version": 3
   },
   "file_extension": ".py",
   "mimetype": "text/x-python",
   "name": "python",
   "nbconvert_exporter": "python",
   "pygments_lexer": "ipython3",
   "version": "3.8.8"
  }
 },
 "nbformat": 4,
 "nbformat_minor": 5
}
